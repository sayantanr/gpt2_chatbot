{
  "nbformat": 4,
  "nbformat_minor": 0,
  "metadata": {
    "colab": {
      "name": "fine_tune_gpt_2.ipynb",
      "provenance": [],
      "collapsed_sections": []
    },
    "kernelspec": {
      "name": "python3",
      "display_name": "Python 3"
    },
    "accelerator": "GPU"
  },
  "cells": [
    {
      "cell_type": "code",
      "metadata": {
        "id": "5He2U6op5X0Y",
        "colab": {
          "base_uri": "https://localhost:8080/"
        },
        "outputId": "1175a81c-2ea0-4d03-b9f4-3470e8885ac8"
      },
      "source": [
        "%tensorflow_version 1.x\n",
        "!pip install gpt-2-simple\n",
        "import gpt_2_simple as gpt2"
      ],
      "execution_count": 1,
      "outputs": [
        {
          "output_type": "stream",
          "text": [
            "TensorFlow 1.x selected.\n",
            "Collecting gpt-2-simple\n",
            "  Downloading gpt_2_simple-0.7.2.tar.gz (25 kB)\n",
            "Requirement already satisfied: regex in /usr/local/lib/python3.7/dist-packages (from gpt-2-simple) (2019.12.20)\n",
            "Requirement already satisfied: requests in /usr/local/lib/python3.7/dist-packages (from gpt-2-simple) (2.23.0)\n",
            "Requirement already satisfied: tqdm in /usr/local/lib/python3.7/dist-packages (from gpt-2-simple) (4.62.0)\n",
            "Requirement already satisfied: numpy in /usr/local/lib/python3.7/dist-packages (from gpt-2-simple) (1.19.5)\n",
            "Collecting toposort\n",
            "  Downloading toposort-1.6-py2.py3-none-any.whl (9.5 kB)\n",
            "Requirement already satisfied: urllib3!=1.25.0,!=1.25.1,<1.26,>=1.21.1 in /usr/local/lib/python3.7/dist-packages (from requests->gpt-2-simple) (1.24.3)\n",
            "Requirement already satisfied: certifi>=2017.4.17 in /usr/local/lib/python3.7/dist-packages (from requests->gpt-2-simple) (2021.5.30)\n",
            "Requirement already satisfied: chardet<4,>=3.0.2 in /usr/local/lib/python3.7/dist-packages (from requests->gpt-2-simple) (3.0.4)\n",
            "Requirement already satisfied: idna<3,>=2.5 in /usr/local/lib/python3.7/dist-packages (from requests->gpt-2-simple) (2.10)\n",
            "Building wheels for collected packages: gpt-2-simple\n",
            "  Building wheel for gpt-2-simple (setup.py) ... \u001b[?25l\u001b[?25hdone\n",
            "  Created wheel for gpt-2-simple: filename=gpt_2_simple-0.7.2-py3-none-any.whl size=23620 sha256=aeb675045f45e47f61b8a1d3a9aa40bdaa787b90d17c2e94da5f4178de664223\n",
            "  Stored in directory: /root/.cache/pip/wheels/f8/a0/0b/18b541426b0d966b55ae6dc35628a85f67d0698e5fabb1d6c7\n",
            "Successfully built gpt-2-simple\n",
            "Installing collected packages: toposort, gpt-2-simple\n",
            "Successfully installed gpt-2-simple-0.7.2 toposort-1.6\n",
            "WARNING:tensorflow:\n",
            "The TensorFlow contrib module will not be included in TensorFlow 2.0.\n",
            "For more information, please see:\n",
            "  * https://github.com/tensorflow/community/blob/master/rfcs/20180907-contrib-sunset.md\n",
            "  * https://github.com/tensorflow/addons\n",
            "  * https://github.com/tensorflow/io (for I/O related ops)\n",
            "If you depend on functionality not listed there, please file an issue.\n",
            "\n"
          ],
          "name": "stdout"
        }
      ]
    },
    {
      "cell_type": "code",
      "metadata": {
        "id": "Cylvw0jt6zR6",
        "colab": {
          "base_uri": "https://localhost:8080/"
        },
        "outputId": "d00a194a-62e4-4cce-ed57-39b40e140cf3"
      },
      "source": [
        "gpt2.download_gpt2(model_name=\"355M\")"
      ],
      "execution_count": 2,
      "outputs": [
        {
          "output_type": "stream",
          "text": [
            "Fetching checkpoint: 1.05Mit [00:00, 485Mit/s]                                                      \n",
            "Fetching encoder.json: 1.05Mit [00:01, 966kit/s]\n",
            "Fetching hparams.json: 1.05Mit [00:00, 537Mit/s]                                                    \n",
            "Fetching model.ckpt.data-00000-of-00001: 1.42Git [03:09, 7.48Mit/s]                                 \n",
            "Fetching model.ckpt.index: 1.05Mit [00:00, 524Mit/s]                                                \n",
            "Fetching model.ckpt.meta: 1.05Mit [00:01, 963kit/s]\n",
            "Fetching vocab.bpe: 1.05Mit [00:00, 1.16Mit/s]\n"
          ],
          "name": "stderr"
        }
      ]
    },
    {
      "cell_type": "code",
      "metadata": {
        "id": "qWmZ0ryw63ls"
      },
      "source": [
        "raw_data = '/content/data.json'"
      ],
      "execution_count": 5,
      "outputs": []
    },
    {
      "cell_type": "code",
      "metadata": {
        "id": "WHyj5LIZqb3e"
      },
      "source": [
        "import json\n",
        "\n",
        "\n",
        "with open(raw_data, 'r') as f:\n",
        "    df =json.load(f)\n",
        "\n",
        "\n",
        "data = []\n",
        "\n",
        "for x in df:\n",
        "    for y in range(len(x['dialog'])-1):\n",
        "        a = '[BOT] : ' + x['dialog'][y+1]['text']\n",
        "        q = '[YOU] : ' + x['dialog'][y]['text']\n",
        "        data.append(q)\n",
        "        data.append(a)\n",
        "        "
      ],
      "execution_count": 7,
      "outputs": []
    },
    {
      "cell_type": "code",
      "metadata": {
        "id": "XCTnku1frEGD"
      },
      "source": [
        "with open('chatbot.txt', 'w') as f:\n",
        "     for line in data:\n",
        "        try:\n",
        "            f.write(line)\n",
        "            f.write('\\n')\n",
        "        except:\n",
        "            pass"
      ],
      "execution_count": 9,
      "outputs": []
    },
    {
      "cell_type": "code",
      "metadata": {
        "id": "YIKSVklXs-Sb"
      },
      "source": [
        "file_name = \"/content/chatbot.txt\""
      ],
      "execution_count": 10,
      "outputs": []
    },
    {
      "cell_type": "code",
      "metadata": {
        "id": "wGHxqXIwY4oB"
      },
      "source": [
        "sess = gpt2.start_tf_sess()\n"
      ],
      "execution_count": 11,
      "outputs": []
    },
    {
      "cell_type": "code",
      "metadata": {
        "id": "QuZzjdWt6555",
        "colab": {
          "base_uri": "https://localhost:8080/"
        },
        "outputId": "6500e066-2852-45a2-ca00-04e6592f1967"
      },
      "source": [
        "\n",
        "gpt2.finetune(sess,\n",
        "              dataset=file_name,\n",
        "              model_name='355M',\n",
        "              steps=500,\n",
        "              restore_from='fresh',\n",
        "              run_name='run1',\n",
        "              print_every=10,\n",
        "              sample_every=100,\n",
        "              save_every=100\n",
        "              )"
      ],
      "execution_count": null,
      "outputs": [
        {
          "output_type": "stream",
          "text": [
            "WARNING:tensorflow:From /usr/local/lib/python3.7/dist-packages/gpt_2_simple/src/sample.py:17: where (from tensorflow.python.ops.array_ops) is deprecated and will be removed in a future version.\n",
            "Instructions for updating:\n",
            "Use tf.where in 2.0, which has the same broadcast rule as np.where\n",
            "WARNING:tensorflow:From /usr/local/lib/python3.7/dist-packages/gpt_2_simple/src/memory_saving_gradients.py:62: get_backward_walk_ops (from tensorflow.contrib.graph_editor.select) is deprecated and will be removed after 2019-06-06.\n",
            "Instructions for updating:\n",
            "Please use tensorflow.python.ops.op_selector.get_backward_walk_ops.\n",
            "Loading checkpoint models/355M/model.ckpt\n",
            "INFO:tensorflow:Restoring parameters from models/355M/model.ckpt\n",
            "Loading dataset...\n"
          ],
          "name": "stdout"
        },
        {
          "output_type": "stream",
          "text": [
            "100%|██████████| 1/1 [00:05<00:00,  5.10s/it]\n"
          ],
          "name": "stderr"
        },
        {
          "output_type": "stream",
          "text": [
            "dataset has 1015293 tokens\n",
            "Training...\n",
            "[10 | 42.45] loss=1.25 avg=1.25\n",
            "[20 | 74.48] loss=0.99 avg=1.12\n",
            "[30 | 106.49] loss=1.29 avg=1.18\n",
            "[40 | 138.48] loss=1.45 avg=1.25\n",
            "[50 | 170.47] loss=0.88 avg=1.17\n",
            "[60 | 202.48] loss=1.34 avg=1.20\n",
            "[70 | 234.47] loss=1.18 avg=1.20\n",
            "[80 | 266.48] loss=1.16 avg=1.19\n",
            "[90 | 298.50] loss=1.21 avg=1.20\n",
            "[100 | 330.52] loss=1.17 avg=1.19\n",
            "Saving checkpoint/run1/model-100\n",
            "======== SAMPLE 1 ========\n",
            " ind of not knowing :O\n",
            "[BOT] : I am a teacher. Do you like cooking?\n",
            "[YOU] : I am a teacher. Do you like cooking?\n",
            "[BOT] : i am sorry:)\n",
            "[YOU] : i am sorry:)\n",
            "[BOT] : I am sorry too, but I am not able to cook.\n",
            "[YOU] : I am sorry too, but I am not able to cook.\n",
            "[BOT] : cool\n",
            "[YOU] : cool\n",
            "[BOT] : i like to sing, and do not like it\n",
            "[YOU] : i like to sing, and do not like it\n",
            "[BOT] : I like to eat with the best food in town.\n",
            "[YOU] : I like to eat with the best food in town.\n",
            "[BOT] : cool\n",
            "[YOU] : cool\n",
            "[BOT] : i love to eat and sing in the band\n",
            "[YOU] : i love to eat and sing in the band\n",
            "[BOT] : cool\n",
            "[YOU] : cool\n",
            "[BOT] : yes\n",
            "[YOU] : yes\n",
            "[BOT] : that's cool :) . . . . . .\n",
            "[YOU] : that's cool :) . . . . . . . . .\n",
            "[BOT] : I love cooking and eating and singing and do not like it so much\n",
            "[YOU] : I love cooking and eating and singing and do not like it so much\n",
            "[BOT] : cool . i am a teacher . . . . . . .\n",
            "[YOU] : cool . i am a teacher . . . . . . . .\n",
            "[BOT] : I like to cook and eat and sing in the band.\n",
            "[YOU] : I like to cook and eat and sing in the band.\n",
            "[BOT] : cool . i work at a local hospital . . . . . . . .\n",
            "[YOU] : cool . i work at a local hospital . . . . . . . . . .\n",
            "[BOT] : I like to cook and eat and sing in the band.\n",
            "[YOU] : I like to cook and eat and sing in the band.\n",
            "[BOT] : cool! i love to cook . i am the mother of four.\n",
            "[YOU] : cool! i love to cook . i am the mother of four.\n",
            "[BOT] : Nice! How old are you?\n",
            "[YOU] : Nice! How old are you?\n",
            "[BOT] : I am 17 years old . . . . . . . .\n",
            "[YOU] : I am 17 years old . . . . . . . . . .\n",
            "[BOT] : Do you like to eat burgers?\n",
            "[YOU] : Do you like to eat burgers?\n",
            "[BOT] : I like the food, but i am not into it.\n",
            "[YOU] : I like the food, but i am not into it.\n",
            "[BOT] : okay so i am in a band?\n",
            "[YOU] : okay so i am in a band?\n",
            "[BOT] : I do! I love to sing.\n",
            "[YOU] : I do! I love to sing.\n",
            "[BOT] : wow :)\n",
            "[YOU] : wow :)\n",
            "[BOT] : Oh wow . . . . . . . . . . .\n",
            "[YOU] : Oh wow . . . . . . . . . . . . . . . . . . . . . . . . . . . .\n",
            "[BOT] : Do you like that band?\n",
            "[YOU] : Do you like that band?\n",
            "[BOT] : i love to play guitar and piano . . . . . . . . . . . . . . . . . . . . . . . . . . . . . . . . . . . . . . . . . . . . . . . . . . . . . . . . . . . . . . . . . . . . . . . . . . . . . . .\n",
            "[YOU] : i love to play guitar and piano . . . . . . . . . . . . . . . . . . . . . . . . . . . . . . . . . . . . . . . . . . . . . . . . . . . . . . . . . . . . . . . . . . . . . . . . . . . . . . . . . . . . . . . . . . . . . . . . . . . . . . . . . . . . . . . . . . . . . . . . . . . . . . . . . . . . . . . . . . . . . .. .\n",
            "\n",
            "[110 | 409.39] loss=0.89 avg=1.16\n",
            "[120 | 441.45] loss=1.08 avg=1.16\n",
            "[130 | 473.52] loss=1.07 avg=1.15\n",
            "[140 | 505.58] loss=0.99 avg=1.14\n",
            "[150 | 537.59] loss=0.91 avg=1.12\n",
            "[160 | 569.63] loss=0.92 avg=1.11\n",
            "[170 | 601.66] loss=0.77 avg=1.08\n",
            "[180 | 633.69] loss=1.02 avg=1.08\n",
            "[190 | 665.69] loss=0.81 avg=1.07\n",
            "[200 | 697.72] loss=0.75 avg=1.05\n",
            "Saving checkpoint/run1/model-200\n",
            "WARNING:tensorflow:From /tensorflow-1.15.2/python3.7/tensorflow_core/python/training/saver.py:963: remove_checkpoint (from tensorflow.python.training.checkpoint_management) is deprecated and will be removed in a future version.\n",
            "Instructions for updating:\n",
            "Use standard file APIs to delete files with this prefix.\n",
            "======== SAMPLE 1 ========\n",
            ".\n",
            "[YOU] : I love to drive my car and drive my car but I have no cars\n",
            "[BOT] : What is your work?\n",
            "[YOU] : What is your work?\n",
            "[BOT] : Just got done work at a school and we have a few of our own\n",
            "[YOU] : Just got done work at a school and we have a few of our own\n",
            "[BOT] : How are you?\n",
            "[YOU] : How are you?\n",
            "[BOT] : Good. That is very nice. I am on my way to go to college. I am a very experienced person.\n",
            "[YOU] : Good. That is very nice. I am on my way to go to college. I am a very experienced person.\n",
            "[BOT] : What is your dream?\n",
            "[YOU] : What is your dream?\n",
            "[BOT] : It is very nice. I am a very experienced person.\n",
            "[YOU] : It is very nice. I am a very experienced person.\n",
            "[BOT] : What do you like to dance?\n",
            "[YOU] : What Do you like to dance?\n",
            "[BOT] : I like to dance. What is your favorite band?😄\n",
            "[YOU] : I like to dance. What is your favorite band?😄\n",
            "[BOT] : I like to dance and dance. What is your favorite band?\n",
            "[YOU] : I like to dance and dance. What is your favorite band?\n",
            "[BOT] : I like to see the sunset.\n",
            "[YOU] : I like to see the sunset.\n",
            "[BOT] : I am not sure. What is your favorite color?\n",
            "[YOU] : I am not sure. What is your favorite color?\n",
            "[BOT] : I am a huge gamer.\n",
            "[YOU] : I am a huge gamer.\n",
            "[BOT] : I love blue. I am a huge gamer.\n",
            "[YOU] : I love blue. I am a huge gamer.\n",
            "[BOT] : I like green, but also like white.\n",
            "[YOU] : I like green, but also like white.\n",
            "[BOT] : I am a huge gamer.\n",
            "[YOU] : I am a huge gamer.\n",
            "[BOT] : I like black when I don't play games.\n",
            "[YOU] : I like blue when I don't play games.\n",
            "[BOT] : I am not sure that. What is your favorite color?\n",
            "[YOU] : I am not sure that. What is your favorite color?\n",
            "[BOT] : I like yellow. I like white\n",
            "[YOU] : I like yellow. I like white\n",
            "[BOT] : What color is your favorite?\n",
            "[YOU] : What color is your favorite?\n",
            "[BOT] : I like yellow color. I like orange.\n",
            "[YOU] : I like yellow color. I like orange color.\n",
            "[BOT] : And your name is Alex?\n",
            "[YOU] : And your name is Alex?\n",
            "[BOT] : I don't like red color. But how are you?\n",
            "[YOU] : I don't like red color. But how are you?\n",
            "[BOT] : How old are you?\n",
            "[YOU] : How old are you?\n",
            "[BOT] : I am not sure. Just listen to me.\n",
            "[YOU] : I am not sure. Just listen to me.\n",
            "[BOT] : What is your favorite color?\n",
            "[YOU] : What is your favorite color?\n",
            "[BOT] : I like green, but sometimes orange color\n",
            "[YOU] : I like green, but sometimes orange color\n",
            "[BOT] : I love orange! I have a girlfriend\n",
            "[YOU] : I love orange! I have a girlfriend\n",
            "[BOT] : Are you married?\n",
            "[YOU] : Are you married?\n",
            "[BOT] : No, I like red.\n",
            "[YOU] : No, I like red.\n",
            "[BOT] : I like blue colors.\n",
            "[YOU] : I like blue colors.\n",
            "[BOT] : I like blue color.\n",
            "[YOU] : I like blue color.\n",
            "[BOT] : I like red color too.\n",
            "[YOU] : I like red color too.\n",
            "[BOT] : I like red color and orange color.\n",
            "[YOU] : I like red color and orange color.\n",
            "[BOT] : I like orange colors\n",
            "[YOU] : I like orange colors\n",
            "[BOT] : Orange is not a color I like. I like purple.\n",
            "[YOU] : Orange is not a color I like. I like purple color.\n",
            "[BOT] : I like red color too, orange as well.\n",
            "[YOU] : I like red\n",
            "\n",
            "[210 | 775.99] loss=0.81 avg=1.04\n",
            "[220 | 808.03] loss=0.99 avg=1.03\n",
            "[230 | 840.06] loss=1.01 avg=1.03\n",
            "[240 | 872.09] loss=1.19 avg=1.04\n",
            "[250 | 904.14] loss=0.78 avg=1.03\n",
            "[260 | 936.18] loss=0.79 avg=1.02\n",
            "[270 | 968.20] loss=0.89 avg=1.01\n",
            "[280 | 1000.22] loss=0.99 avg=1.01\n",
            "[290 | 1032.25] loss=0.98 avg=1.01\n",
            "[300 | 1064.30] loss=0.71 avg=1.00\n",
            "Saving checkpoint/run1/model-300\n"
          ],
          "name": "stdout"
        }
      ]
    },
    {
      "cell_type": "code",
      "metadata": {
        "id": "5EgLJmDo7CDZ"
      },
      "source": [
        "while True:\n",
        "  ques = input(\"Question : \")\n",
        "\n",
        "  inp = '[YOU] : '+ques+'\\n'+'[BOT] :'\n",
        "\n",
        "  x = gpt2.generate(sess,\n",
        "                length=20,\n",
        "                temperature = 0.6,\n",
        "                include_prefix=False,\n",
        "                prefix=inp,\n",
        "                nsamples=1,\n",
        "                )"
      ],
      "execution_count": null,
      "outputs": []
    },
    {
      "cell_type": "code",
      "metadata": {
        "id": "Mb_w1yWHSuGJ",
        "colab": {
          "base_uri": "https://localhost:8080/",
          "height": 100
        },
        "outputId": "db3fa39b-2b8c-4197-df0d-75facfa602a4"
      },
      "source": [
        "while True:\n",
        "  ques = input(\"Question : \")\n",
        "\n",
        "  inp = '[YOU] : '+ques+'\\n'+'[BOT] :'\n",
        "\n",
        "  x = gpt2.generate(sess,\n",
        "                length=20,\n",
        "                temperature = 0.6,\n",
        "                include_prefix=False,\n",
        "                prefix=inp,\n",
        "                nsamples=1,\n",
        "                return_as_list=True)[0]\n",
        "  print(x)"
      ],
      "execution_count": null,
      "outputs": [
        {
          "output_type": "stream",
          "text": [
            "[YOU] : hi\n",
            "[BOT] : hi\n",
            "[YOU] : hi\n",
            "[BOT] : i am a girl\n",
            "[YOU\n"
          ],
          "name": "stdout"
        }
      ]
    },
    {
      "cell_type": "code",
      "metadata": {
        "id": "7VPDm4y-8AOR"
      },
      "source": [
        ""
      ],
      "execution_count": null,
      "outputs": []
    }
  ]
}